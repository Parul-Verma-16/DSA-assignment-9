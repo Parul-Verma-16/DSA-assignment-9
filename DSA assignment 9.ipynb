{
 "cells": [
  {
   "cell_type": "markdown",
   "id": "ea85f9b9",
   "metadata": {},
   "source": [
    "## **Q1.** Given an integer `n`, return *`true` if it is a power of two. Otherwise, return `false`*. An integer `n` is a power of two, if there exists an integer `x` such that `n == 2x`."
   ]
  },
  {
   "cell_type": "code",
   "execution_count": 1,
   "id": "50e5de27",
   "metadata": {},
   "outputs": [
    {
     "name": "stdout",
     "output_type": "stream",
     "text": [
      "True\n",
      "True\n",
      "False\n"
     ]
    }
   ],
   "source": [
    "def is_power_of_two(n):\n",
    "    if n <= 0:\n",
    "        return False\n",
    "    return (n & (n - 1)) == 0\n",
    "\n",
    "# Example usage\n",
    "print(is_power_of_two(1))   # Output: True\n",
    "print(is_power_of_two(16))  # Output: True\n",
    "print(is_power_of_two(3))   # Output: False"
   ]
  },
  {
   "cell_type": "markdown",
   "id": "888dd5e3",
   "metadata": {},
   "source": [
    "## **Q2.** Given a number n, find the sum of the first natural numbers."
   ]
  },
  {
   "cell_type": "code",
   "execution_count": 2,
   "id": "16be7993",
   "metadata": {},
   "outputs": [
    {
     "name": "stdout",
     "output_type": "stream",
     "text": [
      "6\n",
      "15\n"
     ]
    }
   ],
   "source": [
    "def sum_of_natural_numbers(n):\n",
    "    return (n * (n + 1)) // 2\n",
    "\n",
    "# Example usage\n",
    "print(sum_of_natural_numbers(3))  # Output: 6\n",
    "print(sum_of_natural_numbers(5))  # Output: 15"
   ]
  },
  {
   "cell_type": "markdown",
   "id": "29d4c821",
   "metadata": {},
   "source": [
    "## **Q3.** Given a positive integer, N. Find the factorial of N. "
   ]
  },
  {
   "cell_type": "code",
   "execution_count": 3,
   "id": "58d0ad73",
   "metadata": {},
   "outputs": [
    {
     "name": "stdout",
     "output_type": "stream",
     "text": [
      "120\n",
      "24\n"
     ]
    }
   ],
   "source": [
    "def factorial(N):\n",
    "    result = 1\n",
    "    for i in range(1, N + 1):\n",
    "        result *= i\n",
    "    return result\n",
    "\n",
    "# Example usage\n",
    "print(factorial(5))  # Output: 120\n",
    "print(factorial(4))  # Output: 24"
   ]
  },
  {
   "cell_type": "markdown",
   "id": "40e7d975",
   "metadata": {},
   "source": [
    "## **Q4.** Given a number N and a power P, the task is to find the exponent of this number raised to the given power, i.e. N^P."
   ]
  },
  {
   "cell_type": "code",
   "execution_count": 4,
   "id": "28df3873",
   "metadata": {},
   "outputs": [
    {
     "name": "stdout",
     "output_type": "stream",
     "text": [
      "25\n",
      "32\n"
     ]
    }
   ],
   "source": [
    "def exponentiation(N, P):\n",
    "    result = N ** P\n",
    "    return result\n",
    "\n",
    "# Example usage\n",
    "print(exponentiation(5, 2))  # Output: 25\n",
    "print(exponentiation(2, 5))  # Output: 32"
   ]
  },
  {
   "cell_type": "markdown",
   "id": "c3a3ab0d",
   "metadata": {},
   "source": [
    "## **Q5.** Given an array of integers **arr**, the task is to find maximum element of that array using recursion."
   ]
  },
  {
   "cell_type": "code",
   "execution_count": 5,
   "id": "ee79f851",
   "metadata": {},
   "outputs": [
    {
     "name": "stdout",
     "output_type": "stream",
     "text": [
      "8\n",
      "45\n"
     ]
    }
   ],
   "source": [
    "def find_max(arr):\n",
    "    # Base case: if the array contains only one element, return that element\n",
    "    if len(arr) == 1:\n",
    "        return arr[0]\n",
    "    \n",
    "    # Recursive case: compare the first element with the maximum element in the rest of the array\n",
    "    return max(arr[0], find_max(arr[1:]))\n",
    "\n",
    "# Example usage\n",
    "arr1 = [1, 4, 3, -5, -4, 8, 6]\n",
    "print(find_max(arr1))  # Output: 8\n",
    "\n",
    "arr2 = [1, 4, 45, 6, 10, -8]\n",
    "print(find_max(arr2))  # Output: 45"
   ]
  },
  {
   "cell_type": "markdown",
   "id": "1c6a6f46",
   "metadata": {},
   "source": [
    "## **Q6.** Given first term (a), common difference (d) and a integer N of the Arithmetic Progression series, the task is to find Nth term of the series."
   ]
  },
  {
   "cell_type": "code",
   "execution_count": 6,
   "id": "e5fc24ff",
   "metadata": {},
   "outputs": [
    {
     "name": "stdout",
     "output_type": "stream",
     "text": [
      "The 5 term of the series is: 6\n",
      "The 10 term of the series is: 23\n"
     ]
    }
   ],
   "source": [
    "def find_nth_term(a, d, N):\n",
    "    nth_term = a + (N - 1) * d\n",
    "    return nth_term\n",
    "\n",
    "# Example usage\n",
    "a1, d1, N1 = 2, 1, 5\n",
    "print(\"The\", N1, \"term of the series is:\", find_nth_term(a1, d1, N1))  # Output: 6\n",
    "\n",
    "a2, d2, N2 = 5, 2, 10\n",
    "print(\"The\", N2, \"term of the series is:\", find_nth_term(a2, d2, N2))  # Output: 23"
   ]
  },
  {
   "cell_type": "markdown",
   "id": "ca4cf70a",
   "metadata": {},
   "source": [
    "##  **Q7.** Given a string S, the task is to write a program to print all permutations of a given string."
   ]
  },
  {
   "cell_type": "code",
   "execution_count": 7,
   "id": "0a5f96f1",
   "metadata": {},
   "outputs": [
    {
     "name": "stdout",
     "output_type": "stream",
     "text": [
      "Permutations of ABC : ['ABC', 'ACB', 'BAC', 'BCA', 'CBA', 'CAB']\n",
      "Permutations of XY : ['XY', 'YX']\n"
     ]
    }
   ],
   "source": [
    "def permute_string(string):\n",
    "    # Convert the string to a list of characters\n",
    "    char_list = list(string)\n",
    "    \n",
    "    # Create an empty list to store the permutations\n",
    "    permutations = []\n",
    "    \n",
    "    # Call the recursive helper function to generate permutations\n",
    "    permute(char_list, 0, len(char_list) - 1, permutations)\n",
    "    \n",
    "    # Convert the permutations list back to a list of strings\n",
    "    permutations = [''.join(perm) for perm in permutations]\n",
    "    \n",
    "    return permutations\n",
    "\n",
    "def permute(char_list, left, right, permutations):\n",
    "    if left == right:\n",
    "        # Append the current permutation to the list\n",
    "        permutations.append(char_list[:])\n",
    "    else:\n",
    "        for i in range(left, right + 1):\n",
    "            # Swap characters at indices left and i\n",
    "            char_list[left], char_list[i] = char_list[i], char_list[left]\n",
    "            \n",
    "            # Recursively generate permutations for the remaining characters\n",
    "            permute(char_list, left + 1, right, permutations)\n",
    "            \n",
    "            # Restore the original order by swapping back\n",
    "            char_list[left], char_list[i] = char_list[i], char_list[left]\n",
    "\n",
    "# Example usage\n",
    "S1 = \"ABC\"\n",
    "permutations1 = permute_string(S1)\n",
    "print(\"Permutations of\", S1, \":\", permutations1)  # Output: ['ABC', 'ACB', 'BAC', 'BCA', 'CBA', 'CAB']\n",
    "\n",
    "S2 = \"XY\"\n",
    "permutations2 = permute_string(S2)\n",
    "print(\"Permutations of\", S2, \":\", permutations2)  # Output: ['XY', 'YX']"
   ]
  },
  {
   "cell_type": "markdown",
   "id": "3d806969",
   "metadata": {},
   "source": [
    "##  **Q8.** Given an array, find a product of all array elements."
   ]
  },
  {
   "cell_type": "code",
   "execution_count": 8,
   "id": "ffba6979",
   "metadata": {},
   "outputs": [
    {
     "name": "stdout",
     "output_type": "stream",
     "text": [
      "Product of array elements: 120\n",
      "Product of array elements: 18\n"
     ]
    }
   ],
   "source": [
    "def product_of_array(arr):\n",
    "    product = 1\n",
    "    for num in arr:\n",
    "        product *= num\n",
    "    return product\n",
    "\n",
    "# Example usage\n",
    "arr1 = [1, 2, 3, 4, 5]\n",
    "print(\"Product of array elements:\", product_of_array(arr1))  # Output: 120\n",
    "\n",
    "arr2 = [1, 6, 3]\n",
    "print(\"Product of array elements:\", product_of_array(arr2))  # Output: 18"
   ]
  }
 ],
 "metadata": {
  "kernelspec": {
   "display_name": "Python 3 (ipykernel)",
   "language": "python",
   "name": "python3"
  },
  "language_info": {
   "codemirror_mode": {
    "name": "ipython",
    "version": 3
   },
   "file_extension": ".py",
   "mimetype": "text/x-python",
   "name": "python",
   "nbconvert_exporter": "python",
   "pygments_lexer": "ipython3",
   "version": "3.9.13"
  }
 },
 "nbformat": 4,
 "nbformat_minor": 5
}
